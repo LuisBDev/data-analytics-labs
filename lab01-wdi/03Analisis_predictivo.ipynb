{
 "cells": [
  {
   "cell_type": "markdown",
   "id": "521cca4b",
   "metadata": {},
   "source": [
    "\n",
    "# Análisis Predictivo - Predicción del PIB\n",
    "\n",
    "## Introducción\n",
    "\n",
    "En este análisis, se busca predecir el Producto Interno Bruto (PIB) de diferentes países en función de diversas características económicas y demográficas. Las variables seleccionadas incluyen el **PIB per cápita**, **población**, **esperanza de vida**, **emisiones de CO2**, y el **porcentaje de exportaciones e importaciones** respecto al PIB.\n",
    "\n",
    "El análisis se enfoca en comparar dos modelos predictivos:\n",
    "\n",
    "1. **Regresión Lineal**: Un modelo básico de predicción que busca una relación lineal entre las variables.\n",
    "2. **Random Forest**: Un modelo avanzado de machine learning basado en árboles de decisión, ideal para capturar relaciones no lineales.\n",
    "\n",
    "Ambos modelos serán evaluados usando métricas como **RMSE** (Error Cuadrático Medio), **R²** (Coeficiente de Determinación) y **MAE** (Error Absoluto Medio). Estos modelos permitirán identificar cuál tiene un mejor desempeño en la predicción del PIB de los países a partir de las características seleccionadas.\n"
   ]
  },
  {
   "cell_type": "markdown",
   "id": "ce6a5115",
   "metadata": {},
   "source": [
    "\n",
    "## Objetivos y Métodos\n",
    "\n",
    "### Objetivo\n",
    "\n",
    "El objetivo de este análisis es construir y evaluar modelos predictivos para predecir el **PIB** de los países en función de variables económicas y demográficas. A través de dos modelos:\n",
    "\n",
    "1. **Regresión Lineal**: Para encontrar una relación lineal entre las variables.\n",
    "2. **Random Forest**: Para capturar relaciones no lineales y manejar la complejidad de las interacciones entre variables.\n",
    "\n",
    "### Métodos\n",
    "\n",
    "1. **Preparación de los Datos**: \n",
    "   - Eliminar valores nulos.\n",
    "   - Normalizar las variables para mejorar la precisión de los modelos predictivos.\n",
    "   \n",
    "2. **Modelado Predictivo**:\n",
    "   - **Regresión Lineal**: Entrenamiento de un modelo sencillo de regresión.\n",
    "   - **Random Forest**: Entrenamiento de un modelo basado en múltiples árboles de decisión.\n",
    "\n",
    "3. **Evaluación de los Modelos**:\n",
    "   - Uso de **RMSE**, **R²** y **MAE** para comparar el desempeño de ambos modelos.\n",
    "   - Visualización de las predicciones versus los valores reales para cada modelo.\n"
   ]
  },
  {
   "cell_type": "markdown",
   "id": "d1f2aad9",
   "metadata": {},
   "source": [
    "\n",
    "## Preparación de los Datos\n",
    "\n",
    "### Limpieza de Datos\n",
    "\n",
    "Es esencial limpiar los datos antes de entrenar los modelos. Esto incluye:\n",
    "\n",
    "1. **Eliminación de Valores Nulos**: Se eliminaron las filas con valores faltantes en las variables seleccionadas.\n",
    "2. **Normalización/Estandarización**: Algunas variables, como el PIB o las emisiones de CO2, pueden tener rangos muy amplios. Por lo tanto, se estandarizaron las características para asegurarse de que todas las variables tengan el mismo peso en el modelo, especialmente para el modelo de **Regresión Lineal**.\n",
    "3. **Variables Seleccionadas**: Se utilizaron las siguientes variables:\n",
    "   - **GDP_per_capita_USD**: PIB per cápita.\n",
    "   - **Population**: Población total.\n",
    "   - **Life_exp**: Esperanza de vida.\n",
    "   - **CO2_emissions**: Emisiones de CO2.\n",
    "   - **Exports_percent_GDP**: Porcentaje de exportaciones respecto al PIB.\n",
    "   - **Imports_percent_GDP**: Porcentaje de importaciones respecto al PIB.\n",
    "\n",
    "Estas características se usaron para predecir el **PIB** (variable dependiente).\n"
   ]
  },
  {
   "cell_type": "code",
   "execution_count": 1,
   "id": "c099c4f5",
   "metadata": {},
   "outputs": [
    {
     "data": {
      "text/plain": [
       "((5481, 6), (1371, 6), (5481,), (1371,))"
      ]
     },
     "execution_count": 1,
     "metadata": {},
     "output_type": "execute_result"
    }
   ],
   "source": [
    "\n",
    "import pandas as pd\n",
    "from sklearn.model_selection import train_test_split\n",
    "from sklearn.preprocessing import StandardScaler\n",
    "\n",
    "# Cargar el dataset\n",
    "file_path = './output/WDI_Complete_Analysis_PowerBI.csv'\n",
    "dataset = pd.read_csv(file_path)\n",
    "\n",
    "# Variables y objetivo\n",
    "features = ['GDP_per_capita_USD', 'Population', 'Life_exp', 'CO2_emissions', 'Exports_percent_GDP', 'Imports_percent_GDP']\n",
    "target = 'GDP'\n",
    "\n",
    "# Filtrar los datos y eliminar valores nulos\n",
    "dataset_cleaned = dataset[features + [target]].dropna()\n",
    "\n",
    "# Separar las variables predictoras (X) y la variable dependiente (y)\n",
    "X = dataset_cleaned[features]\n",
    "y = dataset_cleaned[target]\n",
    "\n",
    "# Normalizar las características\n",
    "scaler = StandardScaler()\n",
    "X_scaled = scaler.fit_transform(X)\n",
    "\n",
    "# Dividir los datos en conjunto de entrenamiento (80%) y conjunto de prueba (20%)\n",
    "from sklearn.model_selection import train_test_split\n",
    "X_train, X_test, y_train, y_test = train_test_split(X_scaled, y, test_size=0.2, random_state=42)\n",
    "\n",
    "# Verificar dimensiones de los datos\n",
    "X_train.shape, X_test.shape, y_train.shape, y_test.shape\n"
   ]
  },
  {
   "cell_type": "markdown",
   "id": "11395c66",
   "metadata": {},
   "source": [
    "\n",
    "## Selección del Modelo Predictivo\n",
    "\n",
    "### 1. **Regresión Lineal**\n",
    "\n",
    "La **Regresión Lineal** es un modelo predictivo que asume que existe una relación lineal entre las variables independientes y la variable dependiente (en este caso, el PIB). Este modelo es ideal cuando las relaciones entre las variables son simples y lineales.\n",
    "\n",
    "### 2. **Random Forest**\n",
    "\n",
    "El **Random Forest** es un modelo de machine learning más avanzado que utiliza múltiples árboles de decisión para predecir el resultado. Este modelo es más flexible y puede manejar relaciones no lineales entre las variables, lo que lo hace adecuado para datos más complejos.\n"
   ]
  },
  {
   "cell_type": "code",
   "execution_count": 2,
   "id": "7c20cbfb",
   "metadata": {},
   "outputs": [
    {
     "data": {
      "text/html": [
       "<div>\n",
       "<style scoped>\n",
       "    .dataframe tbody tr th:only-of-type {\n",
       "        vertical-align: middle;\n",
       "    }\n",
       "\n",
       "    .dataframe tbody tr th {\n",
       "        vertical-align: top;\n",
       "    }\n",
       "\n",
       "    .dataframe thead th {\n",
       "        text-align: right;\n",
       "    }\n",
       "</style>\n",
       "<table border=\"1\" class=\"dataframe\">\n",
       "  <thead>\n",
       "    <tr style=\"text-align: right;\">\n",
       "      <th></th>\n",
       "      <th>Modelo</th>\n",
       "      <th>RMSE</th>\n",
       "      <th>R²</th>\n",
       "      <th>MAE</th>\n",
       "    </tr>\n",
       "  </thead>\n",
       "  <tbody>\n",
       "    <tr>\n",
       "      <th>0</th>\n",
       "      <td>Regresión Lineal</td>\n",
       "      <td>1.535040e-11</td>\n",
       "      <td>1.00000</td>\n",
       "      <td>1.051750e-11</td>\n",
       "    </tr>\n",
       "    <tr>\n",
       "      <th>1</th>\n",
       "      <td>Random Forest</td>\n",
       "      <td>7.863955e+01</td>\n",
       "      <td>0.99998</td>\n",
       "      <td>1.405127e+01</td>\n",
       "    </tr>\n",
       "  </tbody>\n",
       "</table>\n",
       "</div>"
      ],
      "text/plain": [
       "             Modelo          RMSE       R²           MAE\n",
       "0  Regresión Lineal  1.535040e-11  1.00000  1.051750e-11\n",
       "1     Random Forest  7.863955e+01  0.99998  1.405127e+01"
      ]
     },
     "execution_count": 2,
     "metadata": {},
     "output_type": "execute_result"
    }
   ],
   "source": [
    "\n",
    "from sklearn.linear_model import LinearRegression\n",
    "from sklearn.ensemble import RandomForestRegressor\n",
    "from sklearn.metrics import mean_squared_error, r2_score, mean_absolute_error\n",
    "\n",
    "# Entrenar el modelo de Regresión Lineal\n",
    "linear_model = LinearRegression()\n",
    "linear_model.fit(X_train, y_train)\n",
    "y_pred_linear = linear_model.predict(X_test)\n",
    "\n",
    "# Evaluar el modelo de Regresión Lineal\n",
    "mse_linear = mean_squared_error(y_test, y_pred_linear)\n",
    "rmse_linear = mse_linear ** 0.5  # Calcular RMSE manualmente\n",
    "r2_linear = r2_score(y_test, y_pred_linear)\n",
    "mae_linear = mean_absolute_error(y_test, y_pred_linear)\n",
    "\n",
    "# Entrenar el modelo de Random Forest\n",
    "random_forest_model = RandomForestRegressor(n_estimators=100, random_state=42)\n",
    "random_forest_model.fit(X_train, y_train)\n",
    "y_pred_rf = random_forest_model.predict(X_test)\n",
    "\n",
    "# Evaluar el modelo Random Forest\n",
    "mse_rf = mean_squared_error(y_test, y_pred_rf)\n",
    "rmse_rf = mse_rf ** 0.5  # Calcular RMSE manualmente\n",
    "r2_rf = r2_score(y_test, y_pred_rf)\n",
    "mae_rf = mean_absolute_error(y_test, y_pred_rf)\n",
    "\n",
    "# Resultados de evaluación\n",
    "evaluation_results = {\n",
    "    'Modelo': ['Regresión Lineal', 'Random Forest'],\n",
    "    'RMSE': [rmse_linear, rmse_rf],\n",
    "    'R²': [r2_linear, r2_rf],\n",
    "    'MAE': [mae_linear, mae_rf]\n",
    "}\n",
    "\n",
    "evaluation_df = pd.DataFrame(evaluation_results)\n",
    "\n",
    "# Mostrar las métricas\n",
    "evaluation_df\n"
   ]
  },
  {
   "cell_type": "markdown",
   "id": "4238a530",
   "metadata": {},
   "source": [
    "\n",
    "## Visualización de Resultados\n",
    "\n",
    "Los siguientes gráficos comparan las predicciones de cada modelo con los valores reales del conjunto de prueba. Además, comparamos las métricas de evaluación (RMSE, R², MAE) de ambos modelos para determinar cuál es el más preciso.\n",
    "\n",
    "### Comparación de Predicciones vs Reales\n"
   ]
  },
  {
   "cell_type": "code",
   "execution_count": 3,
   "id": "65b1cf62",
   "metadata": {},
   "outputs": [
    {
     "data": {
      "image/png": "[encoded data removed]",
      "text/plain": [
       "<Figure size 1200x600 with 2 Axes>"
      ]
     },
     "metadata": {},
     "output_type": "display_data"
    },
    {
     "data": {
      "application/vnd.plotly.v1+json": {
       "config": {
        "plotlyServerURL": "https://plot.ly"
       },
       "data": [
        {
         "alignmentgroup": "True",
         "hovertemplate": "variable=RMSE<br>Modelo Predictivo=%{x}<br>Valor=%{y}<extra></extra>",
         "legendgroup": "RMSE",
         "marker": {
          "color": "#636efa",
          "pattern": {
           "shape": ""
          }
         },
         "name": "RMSE",
         "offsetgroup": "RMSE",
         "orientation": "v",
         "showlegend": true,
         "textposition": "auto",
         "type": "bar",
         "x": [
          "Regresión Lineal",
          "Random Forest"
         ],
         "xaxis": "x",
         "y": [
          1.5350401123283082e-11,
          78.63954980954954
         ],
         "yaxis": "y"
        },
        {
         "alignmentgroup": "True",
         "hovertemplate": "variable=R²<br>Modelo Predictivo=%{x}<br>Valor=%{y}<extra></extra>",
         "legendgroup": "R²",
         "marker": {
          "color": "#EF553B",
          "pattern": {
           "shape": ""
          }
         },
         "name": "R²",
         "offsetgroup": "R²",
         "orientation": "v",
         "showlegend": true,
         "textposition": "auto",
         "type": "bar",
         "x": [
          "Regresión Lineal",
          "Random Forest"
         ],
         "xaxis": "x",
         "y": [
          1,
          0.9999798142437285
         ],
         "yaxis": "y"
        },
        {
         "alignmentgroup": "True",
         "hovertemplate": "variable=MAE<br>Modelo Predictivo=%{x}<br>Valor=%{y}<extra></extra>",
         "legendgroup": "MAE",
         "marker": {
          "color": "#00cc96",
          "pattern": {
           "shape": ""
          }
         },
         "name": "MAE",
         "offsetgroup": "MAE",
         "orientation": "v",
         "showlegend": true,
         "textposition": "auto",
         "type": "bar",
         "x": [
          "Regresión Lineal",
          "Random Forest"
         ],
         "xaxis": "x",
         "y": [
          1.051750436479256e-11,
          14.051271904157405
         ],
         "yaxis": "y"
        }
       ],
       "layout": {
        "barmode": "group",
        "legend": {
         "title": {
          "text": "variable"
         },
         "tracegroupgap": 0
        },
        "template": {
         "data": {
          "bar": [
           {
            "error_x": {
             "color": "#2a3f5f"
            },
            "error_y": {
             "color": "#2a3f5f"
            },
            "marker": {
             "line": {
              "color": "#E5ECF6",
              "width": 0.5
             },
             "pattern": {
              "fillmode": "overlay",
              "size": 10,
              "solidity": 0.2
             }
            },
            "type": "bar"
           }
          ],
          "barpolar": [
           {
            "marker": {
             "line": {
              "color": "#E5ECF6",
              "width": 0.5
             },
             "pattern": {
              "fillmode": "overlay",
              "size": 10,
              "solidity": 0.2
             }
            },
            "type": "barpolar"
           }
          ],
          "carpet": [
           {
            "aaxis": {
             "endlinecolor": "#2a3f5f",
             "gridcolor": "white",
             "linecolor": "white",
             "minorgridcolor": "white",
             "startlinecolor": "#2a3f5f"
            },
            "baxis": {
             "endlinecolor": "#2a3f5f",
             "gridcolor": "white",
             "linecolor": "white",
             "minorgridcolor": "white",
             "startlinecolor": "#2a3f5f"
            },
            "type": "carpet"
           }
          ],
          "choropleth": [
           {
            "colorbar": {
             "outlinewidth": 0,
             "ticks": ""
            },
            "type": "choropleth"
           }
          ],
          "contour": [
           {
            "colorbar": {
             "outlinewidth": 0,
             "ticks": ""
            },
            "colorscale": [
             [
              0,
              "#0d0887"
             ],
             [
              0.1111111111111111,
              "#46039f"
             ],
             [
              0.2222222222222222,
              "#7201a8"
             ],
             [
              0.3333333333333333,
              "#9c179e"
             ],
             [
              0.4444444444444444,
              "#bd3786"
             ],
             [
              0.5555555555555556,
              "#d8576b"
             ],
             [
              0.6666666666666666,
              "#ed7953"
             ],
             [
              0.7777777777777778,
              "#fb9f3a"
             ],
             [
              0.8888888888888888,
              "#fdca26"
             ],
             [
              1,
              "#f0f921"
             ]
            ],
            "type": "contour"
           }
          ],
          "contourcarpet": [
           {
            "colorbar": {
             "outlinewidth": 0,
             "ticks": ""
            },
            "type": "contourcarpet"
           }
          ],
          "heatmap": [
           {
            "colorbar": {
             "outlinewidth": 0,
             "ticks": ""
            },
            "colorscale": [
             [
              0,
              "#0d0887"
             ],
             [
              0.1111111111111111,
              "#46039f"
             ],
             [
              0.2222222222222222,
              "#7201a8"
             ],
             [
              0.3333333333333333,
              "#9c179e"
             ],
             [
              0.4444444444444444,
              "#bd3786"
             ],
             [
              0.5555555555555556,
              "#d8576b"
             ],
             [
              0.6666666666666666,
              "#ed7953"
             ],
             [
              0.7777777777777778,
              "#fb9f3a"
             ],
             [
              0.8888888888888888,
              "#fdca26"
             ],
             [
              1,
              "#f0f921"
             ]
            ],
            "type": "heatmap"
           }
          ],
          "heatmapgl": [
           {
            "colorbar": {
             "outlinewidth": 0,
             "ticks": ""
            },
            "colorscale": [
             [
              0,
              "#0d0887"
             ],
             [
              0.1111111111111111,
              "#46039f"
             ],
             [
              0.2222222222222222,
              "#7201a8"
             ],
             [
              0.3333333333333333,
              "#9c179e"
             ],
             [
              0.4444444444444444,
              "#bd3786"
             ],
             [
              0.5555555555555556,
              "#d8576b"
             ],
             [
              0.6666666666666666,
              "#ed7953"
             ],
             [
              0.7777777777777778,
              "#fb9f3a"
             ],
             [
              0.8888888888888888,
              "#fdca26"
             ],
             [
              1,
              "#f0f921"
             ]
            ],
            "type": "heatmapgl"
           }
          ],
          "histogram": [
           {
            "marker": {
             "pattern": {
              "fillmode": "overlay",
              "size": 10,
              "solidity": 0.2
             }
            },
            "type": "histogram"
           }
          ],
          "histogram2d": [
           {
            "colorbar": {
             "outlinewidth": 0,
             "ticks": ""
            },
            "colorscale": [
             [
              0,
              "#0d0887"
             ],
             [
              0.1111111111111111,
              "#46039f"
             ],
             [
              0.2222222222222222,
              "#7201a8"
             ],
             [
              0.3333333333333333,
              "#9c179e"
             ],
             [
              0.4444444444444444,
              "#bd3786"
             ],
             [
              0.5555555555555556,
              "#d8576b"
             ],
             [
              0.6666666666666666,
              "#ed7953"
             ],
             [
              0.7777777777777778,
              "#fb9f3a"
             ],
             [
              0.8888888888888888,
              "#fdca26"
             ],
             [
              1,
              "#f0f921"
             ]
            ],
            "type": "histogram2d"
           }
          ],
          "histogram2dcontour": [
           {
            "colorbar": {
             "outlinewidth": 0,
             "ticks": ""
            },
            "colorscale": [
             [
              0,
              "#0d0887"
             ],
             [
              0.1111111111111111,
              "#46039f"
             ],
             [
              0.2222222222222222,
              "#7201a8"
             ],
             [
              0.3333333333333333,
              "#9c179e"
             ],
             [
              0.4444444444444444,
              "#bd3786"
             ],
             [
              0.5555555555555556,
              "#d8576b"
             ],
             [
              0.6666666666666666,
              "#ed7953"
             ],
             [
              0.7777777777777778,
              "#fb9f3a"
             ],
             [
              0.8888888888888888,
              "#fdca26"
             ],
             [
              1,
              "#f0f921"
             ]
            ],
            "type": "histogram2dcontour"
           }
          ],
          "mesh3d": [
           {
            "colorbar": {
             "outlinewidth": 0,
             "ticks": ""
            },
            "type": "mesh3d"
           }
          ],
          "parcoords": [
           {
            "line": {
             "colorbar": {
              "outlinewidth": 0,
              "ticks": ""
             }
            },
            "type": "parcoords"
           }
          ],
          "pie": [
           {
            "automargin": true,
            "type": "pie"
           }
          ],
          "scatter": [
           {
            "fillpattern": {
             "fillmode": "overlay",
             "size": 10,
             "solidity": 0.2
            },
            "type": "scatter"
           }
          ],
          "scatter3d": [
           {
            "line": {
             "colorbar": {
              "outlinewidth": 0,
              "ticks": ""
             }
            },
            "marker": {
             "colorbar": {
              "outlinewidth": 0,
              "ticks": ""
             }
            },
            "type": "scatter3d"
           }
          ],
          "scattercarpet": [
           {
            "marker": {
             "colorbar": {
              "outlinewidth": 0,
              "ticks": ""
             }
            },
            "type": "scattercarpet"
           }
          ],
          "scattergeo": [
           {
            "marker": {
             "colorbar": {
              "outlinewidth": 0,
              "ticks": ""
             }
            },
            "type": "scattergeo"
           }
          ],
          "scattergl": [
           {
            "marker": {
             "colorbar": {
              "outlinewidth": 0,
              "ticks": ""
             }
            },
            "type": "scattergl"
           }
          ],
          "scattermapbox": [
           {
            "marker": {
             "colorbar": {
              "outlinewidth": 0,
              "ticks": ""
             }
            },
            "type": "scattermapbox"
           }
          ],
          "scatterpolar": [
           {
            "marker": {
             "colorbar": {
              "outlinewidth": 0,
              "ticks": ""
             }
            },
            "type": "scatterpolar"
           }
          ],
          "scatterpolargl": [
           {
            "marker": {
             "colorbar": {
              "outlinewidth": 0,
              "ticks": ""
             }
            },
            "type": "scatterpolargl"
           }
          ],
          "scatterternary": [
           {
            "marker": {
             "colorbar": {
              "outlinewidth": 0,
              "ticks": ""
             }
            },
            "type": "scatterternary"
           }
          ],
          "surface": [
           {
            "colorbar": {
             "outlinewidth": 0,
             "ticks": ""
            },
            "colorscale": [
             [
              0,
              "#0d0887"
             ],
             [
              0.1111111111111111,
              "#46039f"
             ],
             [
              0.2222222222222222,
              "#7201a8"
             ],
             [
              0.3333333333333333,
              "#9c179e"
             ],
             [
              0.4444444444444444,
              "#bd3786"
             ],
             [
              0.5555555555555556,
              "#d8576b"
             ],
             [
              0.6666666666666666,
              "#ed7953"
             ],
             [
              0.7777777777777778,
              "#fb9f3a"
             ],
             [
              0.8888888888888888,
              "#fdca26"
             ],
             [
              1,
              "#f0f921"
             ]
            ],
            "type": "surface"
           }
          ],
          "table": [
           {
            "cells": {
             "fill": {
              "color": "#EBF0F8"
             },
             "line": {
              "color": "white"
             }
            },
            "header": {
             "fill": {
              "color": "#C8D4E3"
             },
             "line": {
              "color": "white"
             }
            },
            "type": "table"
           }
          ]
         },
         "layout": {
          "annotationdefaults": {
           "arrowcolor": "#2a3f5f",
           "arrowhead": 0,
           "arrowwidth": 1
          },
          "autotypenumbers": "strict",
          "coloraxis": {
           "colorbar": {
            "outlinewidth": 0,
            "ticks": ""
           }
          },
          "colorscale": {
           "diverging": [
            [
             0,
             "#8e0152"
            ],
            [
             0.1,
             "#c51b7d"
            ],
            [
             0.2,
             "#de77ae"
            ],
            [
             0.3,
             "#f1b6da"
            ],
            [
             0.4,
             "#fde0ef"
            ],
            [
             0.5,
             "#f7f7f7"
            ],
            [
             0.6,
             "#e6f5d0"
            ],
            [
             0.7,
             "#b8e186"
            ],
            [
             0.8,
             "#7fbc41"
            ],
            [
             0.9,
             "#4d9221"
            ],
            [
             1,
             "#276419"
            ]
           ],
           "sequential": [
            [
             0,
             "#0d0887"
            ],
            [
             0.1111111111111111,
             "#46039f"
            ],
            [
             0.2222222222222222,
             "#7201a8"
            ],
            [
             0.3333333333333333,
             "#9c179e"
            ],
            [
             0.4444444444444444,
             "#bd3786"
            ],
            [
             0.5555555555555556,
             "#d8576b"
            ],
            [
             0.6666666666666666,
             "#ed7953"
            ],
            [
             0.7777777777777778,
             "#fb9f3a"
            ],
            [
             0.8888888888888888,
             "#fdca26"
            ],
            [
             1,
             "#f0f921"
            ]
           ],
           "sequentialminus": [
            [
             0,
             "#0d0887"
            ],
            [
             0.1111111111111111,
             "#46039f"
            ],
            [
             0.2222222222222222,
             "#7201a8"
            ],
            [
             0.3333333333333333,
             "#9c179e"
            ],
            [
             0.4444444444444444,
             "#bd3786"
            ],
            [
             0.5555555555555556,
             "#d8576b"
            ],
            [
             0.6666666666666666,
             "#ed7953"
            ],
            [
             0.7777777777777778,
             "#fb9f3a"
            ],
            [
             0.8888888888888888,
             "#fdca26"
            ],
            [
             1,
             "#f0f921"
            ]
           ]
          },
          "colorway": [
           "#636efa",
           "#EF553B",
           "#00cc96",
           "#ab63fa",
           "#FFA15A",
           "#19d3f3",
           "#FF6692",
           "#B6E880",
           "#FF97FF",
           "#FECB52"
          ],
          "font": {
           "color": "#2a3f5f"
          },
          "geo": {
           "bgcolor": "white",
           "lakecolor": "white",
           "landcolor": "#E5ECF6",
           "showlakes": true,
           "showland": true,
           "subunitcolor": "white"
          },
          "hoverlabel": {
           "align": "left"
          },
          "hovermode": "closest",
          "mapbox": {
           "style": "light"
          },
          "paper_bgcolor": "white",
          "plot_bgcolor": "#E5ECF6",
          "polar": {
           "angularaxis": {
            "gridcolor": "white",
            "linecolor": "white",
            "ticks": ""
           },
           "bgcolor": "#E5ECF6",
           "radialaxis": {
            "gridcolor": "white",
            "linecolor": "white",
            "ticks": ""
           }
          },
          "scene": {
           "xaxis": {
            "backgroundcolor": "#E5ECF6",
            "gridcolor": "white",
            "gridwidth": 2,
            "linecolor": "white",
            "showbackground": true,
            "ticks": "",
            "zerolinecolor": "white"
           },
           "yaxis": {
            "backgroundcolor": "#E5ECF6",
            "gridcolor": "white",
            "gridwidth": 2,
            "linecolor": "white",
            "showbackground": true,
            "ticks": "",
            "zerolinecolor": "white"
           },
           "zaxis": {
            "backgroundcolor": "#E5ECF6",
            "gridcolor": "white",
            "gridwidth": 2,
            "linecolor": "white",
            "showbackground": true,
            "ticks": "",
            "zerolinecolor": "white"
           }
          },
          "shapedefaults": {
           "line": {
            "color": "#2a3f5f"
           }
          },
          "ternary": {
           "aaxis": {
            "gridcolor": "white",
            "linecolor": "white",
            "ticks": ""
           },
           "baxis": {
            "gridcolor": "white",
            "linecolor": "white",
            "ticks": ""
           },
           "bgcolor": "#E5ECF6",
           "caxis": {
            "gridcolor": "white",
            "linecolor": "white",
            "ticks": ""
           }
          },
          "title": {
           "x": 0.05
          },
          "xaxis": {
           "automargin": true,
           "gridcolor": "white",
           "linecolor": "white",
           "ticks": "",
           "title": {
            "standoff": 15
           },
           "zerolinecolor": "white",
           "zerolinewidth": 2
          },
          "yaxis": {
           "automargin": true,
           "gridcolor": "white",
           "linecolor": "white",
           "ticks": "",
           "title": {
            "standoff": 15
           },
           "zerolinecolor": "white",
           "zerolinewidth": 2
          }
         }
        },
        "title": {
         "text": "Evaluación Comparativa de Modelos Predictivos"
        },
        "xaxis": {
         "anchor": "y",
         "domain": [
          0,
          1
         ],
         "title": {
          "text": "Modelo Predictivo"
         }
        },
        "yaxis": {
         "anchor": "x",
         "domain": [
          0,
          1
         ],
         "title": {
          "text": "Valor"
         }
        }
       }
      }
     },
     "metadata": {},
     "output_type": "display_data"
    }
   ],
   "source": [
    "\n",
    "import matplotlib.pyplot as plt\n",
    "import seaborn as sns\n",
    "\n",
    "# Visualización de las predicciones vs valores reales\n",
    "plt.figure(figsize=(12, 6))\n",
    "\n",
    "# Regresión Lineal\n",
    "plt.subplot(1, 2, 1)\n",
    "sns.scatterplot(x=y_test, y=y_pred_linear)\n",
    "plt.plot([min(y_test), max(y_test)], [min(y_test), max(y_test)], color='red', linestyle='--')\n",
    "plt.title('Regresión Lineal: Predicciones vs Reales')\n",
    "plt.xlabel('Valores Reales')\n",
    "plt.ylabel('Predicciones')\n",
    "\n",
    "# Random Forest\n",
    "plt.subplot(1, 2, 2)\n",
    "sns.scatterplot(x=y_test, y=y_pred_rf)\n",
    "plt.plot([min(y_test), max(y_test)], [min(y_test), max(y_test)], color='red', linestyle='--')\n",
    "plt.title('Random Forest: Predicciones vs Reales')\n",
    "plt.xlabel('Valores Reales')\n",
    "plt.ylabel('Predicciones')\n",
    "\n",
    "plt.tight_layout()\n",
    "plt.show()\n",
    "\n",
    "# Visualización de la evaluación comparativa de modelos\n",
    "import plotly.express as px\n",
    "fig = px.bar(evaluation_df, x='Modelo', y=['RMSE', 'R²', 'MAE'], \n",
    "             title='Evaluación Comparativa de Modelos Predictivos', \n",
    "             labels={'value': 'Valor', 'Modelo': 'Modelo Predictivo'},\n",
    "             barmode='group')\n",
    "fig.show()\n"
   ]
  }
 ],
 "metadata": {
  "kernelspec": {
   "display_name": "Python 3",
   "language": "python",
   "name": "python3"
  },
  "language_info": {
   "codemirror_mode": {
    "name": "ipython",
    "version": 3
   },
   "file_extension": ".py",
   "mimetype": "text/x-python",
   "name": "python",
   "nbconvert_exporter": "python",
   "pygments_lexer": "ipython3",
   "version": "3.12.6"
  }
 },
 "nbformat": 4,
 "nbformat_minor": 5
}
